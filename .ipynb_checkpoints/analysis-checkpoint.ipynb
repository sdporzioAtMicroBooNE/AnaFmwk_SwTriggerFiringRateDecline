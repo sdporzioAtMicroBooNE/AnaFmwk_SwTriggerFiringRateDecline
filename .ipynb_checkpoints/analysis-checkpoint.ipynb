{
 "cells": [
  {
   "cell_type": "code",
   "execution_count": 1,
   "metadata": {
    "collapsed": true
   },
   "outputs": [],
   "source": [
    "%matplotlib inline\n",
    "import os, sys, json, pickle, ROOT\n",
    "import numpy as np\n",
    "import pandas as pd\n",
    "import root_numpy as rnp\n",
    "import matplotlib.pyplot as plt\n",
    "from collections import OrderedDict as OD\n",
    "from ipywidgets import interact, interactive, fixed, widgets\n",
    "from NotebookUtils.ProgressBar import LogProgress as LP\n",
    "plt.rcParams['font.family']='serif'\n",
    "plt.rcParams['font.weight']='light'\n",
    "plt.rcParams['font.size']=14\n",
    "figsize = (12,8)\n",
    "\n",
    "def Pandafy(fileName, tree):\n",
    "    df = pd.DataFrame(rnp.root2array(fileName,tree))\n",
    "    return df\n",
    "\n",
    "dataPath = '/Users/sdporzio/Data/Decline/pmtana.root'\n",
    "df = Pandafy(dataPath,)"
   ]
  },
  {
   "cell_type": "code",
   "execution_count": null,
   "metadata": {
    "collapsed": true
   },
   "outputs": [],
   "source": []
  }
 ],
 "metadata": {
  "kernelspec": {
   "display_name": "Python 2",
   "language": "python",
   "name": "python2"
  },
  "language_info": {
   "codemirror_mode": {
    "name": "ipython",
    "version": 2
   },
   "file_extension": ".py",
   "mimetype": "text/x-python",
   "name": "python",
   "nbconvert_exporter": "python",
   "pygments_lexer": "ipython2",
   "version": "2.7.10"
  }
 },
 "nbformat": 4,
 "nbformat_minor": 0
}
